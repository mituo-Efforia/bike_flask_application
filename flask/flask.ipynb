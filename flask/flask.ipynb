{
 "cells": [
  {
   "cell_type": "code",
   "execution_count": 2,
   "metadata": {},
   "outputs": [],
   "source": [
    "import pickle\n",
    "import os\n",
    "import numpy as np\n",
    "\n",
    "from sklearn.metrics import r2_score\n",
    "import pandas as pd\n"
   ]
  },
  {
   "cell_type": "markdown",
   "metadata": {},
   "source": [
    "# モデルの読み込み"
   ]
  },
  {
   "cell_type": "code",
   "execution_count": 3,
   "metadata": {},
   "outputs": [],
   "source": [
    "oe = pickle.load(open(os.path.join('./flask_app/model/ordinalencoder.pkl'),'rb'))\n",
    "rf = pickle.load(open(os.path.join('./flask_app/model/regressor.pkl'),'rb'))"
   ]
  },
  {
   "cell_type": "code",
   "execution_count": 4,
   "metadata": {},
   "outputs": [],
   "source": [
    "#データの読み込み\n",
    "train_data = pd.read_csv(\"../data/train_data.csv\",index_col=0)\n",
    "model_data = pd.read_csv('../data/model_data.csv',index_col=0)\n",
    "info_data = pd.read_csv('../data/bike_info.csv',index_col=0)\n",
    "#サンプルサイズが少ないモデルを抽出\n",
    "all_data = info_data.merge(model_data,on='model_number',how='left')\n",
    "brand_count = all_data.groupby('brand').size().sort_values(ascending=True)\n",
    "#下位10メーカーを抽出(上のcountデータがすでに照準のため上から９つを抽出する)\n",
    "low_10 = brand_count.index[0:10]\n",
    "model_data = model_data[~model_data['brand'].isin(low_10)]\n",
    "#このメーカーデータを使ってtrainデータに結合\n",
    "train_data = train_data.merge(model_data,on='model_number',how='left')\n",
    "#先ほど外れ値に指定したデータはnullになるため、dropnaをすればok\n",
    "train_data.dropna(inplace=True)\n",
    "test_data = pd.read_csv('../data/test_data.csv',index_col=0)\n",
    "test_data=test_data.merge(model_data,on='model_number',how='left')\n",
    "test_data.dropna(inplace=True)\n",
    "#ダミーエンコーディング\n",
    "#エンコーディングしたい列\n",
    "encoding_target = ['color','brand','type']\n",
    "train_data=pd.get_dummies(train_data,drop_first=True,columns=encoding_target)\n",
    "#ラベルエンコーディングを反映\n",
    "test_data[encoding_target] = oe.transform(test_data[encoding_target].values)\n",
    "X_test=test_data.iloc[:,2:].drop(columns=['name','model_number','store_id']).values\n",
    "y_test = test_data['cost'].values"
   ]
  },
  {
   "cell_type": "code",
   "execution_count": 5,
   "metadata": {},
   "outputs": [
    {
     "data": {
      "text/html": [
       "<style>#sk-container-id-1 {color: black;}#sk-container-id-1 pre{padding: 0;}#sk-container-id-1 div.sk-toggleable {background-color: white;}#sk-container-id-1 label.sk-toggleable__label {cursor: pointer;display: block;width: 100%;margin-bottom: 0;padding: 0.3em;box-sizing: border-box;text-align: center;}#sk-container-id-1 label.sk-toggleable__label-arrow:before {content: \"▸\";float: left;margin-right: 0.25em;color: #696969;}#sk-container-id-1 label.sk-toggleable__label-arrow:hover:before {color: black;}#sk-container-id-1 div.sk-estimator:hover label.sk-toggleable__label-arrow:before {color: black;}#sk-container-id-1 div.sk-toggleable__content {max-height: 0;max-width: 0;overflow: hidden;text-align: left;background-color: #f0f8ff;}#sk-container-id-1 div.sk-toggleable__content pre {margin: 0.2em;color: black;border-radius: 0.25em;background-color: #f0f8ff;}#sk-container-id-1 input.sk-toggleable__control:checked~div.sk-toggleable__content {max-height: 200px;max-width: 100%;overflow: auto;}#sk-container-id-1 input.sk-toggleable__control:checked~label.sk-toggleable__label-arrow:before {content: \"▾\";}#sk-container-id-1 div.sk-estimator input.sk-toggleable__control:checked~label.sk-toggleable__label {background-color: #d4ebff;}#sk-container-id-1 div.sk-label input.sk-toggleable__control:checked~label.sk-toggleable__label {background-color: #d4ebff;}#sk-container-id-1 input.sk-hidden--visually {border: 0;clip: rect(1px 1px 1px 1px);clip: rect(1px, 1px, 1px, 1px);height: 1px;margin: -1px;overflow: hidden;padding: 0;position: absolute;width: 1px;}#sk-container-id-1 div.sk-estimator {font-family: monospace;background-color: #f0f8ff;border: 1px dotted black;border-radius: 0.25em;box-sizing: border-box;margin-bottom: 0.5em;}#sk-container-id-1 div.sk-estimator:hover {background-color: #d4ebff;}#sk-container-id-1 div.sk-parallel-item::after {content: \"\";width: 100%;border-bottom: 1px solid gray;flex-grow: 1;}#sk-container-id-1 div.sk-label:hover label.sk-toggleable__label {background-color: #d4ebff;}#sk-container-id-1 div.sk-serial::before {content: \"\";position: absolute;border-left: 1px solid gray;box-sizing: border-box;top: 0;bottom: 0;left: 50%;z-index: 0;}#sk-container-id-1 div.sk-serial {display: flex;flex-direction: column;align-items: center;background-color: white;padding-right: 0.2em;padding-left: 0.2em;position: relative;}#sk-container-id-1 div.sk-item {position: relative;z-index: 1;}#sk-container-id-1 div.sk-parallel {display: flex;align-items: stretch;justify-content: center;background-color: white;position: relative;}#sk-container-id-1 div.sk-item::before, #sk-container-id-1 div.sk-parallel-item::before {content: \"\";position: absolute;border-left: 1px solid gray;box-sizing: border-box;top: 0;bottom: 0;left: 50%;z-index: -1;}#sk-container-id-1 div.sk-parallel-item {display: flex;flex-direction: column;z-index: 1;position: relative;background-color: white;}#sk-container-id-1 div.sk-parallel-item:first-child::after {align-self: flex-end;width: 50%;}#sk-container-id-1 div.sk-parallel-item:last-child::after {align-self: flex-start;width: 50%;}#sk-container-id-1 div.sk-parallel-item:only-child::after {width: 0;}#sk-container-id-1 div.sk-dashed-wrapped {border: 1px dashed gray;margin: 0 0.4em 0.5em 0.4em;box-sizing: border-box;padding-bottom: 0.4em;background-color: white;}#sk-container-id-1 div.sk-label label {font-family: monospace;font-weight: bold;display: inline-block;line-height: 1.2em;}#sk-container-id-1 div.sk-label-container {text-align: center;}#sk-container-id-1 div.sk-container {/* jupyter's `normalize.less` sets `[hidden] { display: none; }` but bootstrap.min.css set `[hidden] { display: none !important; }` so we also need the `!important` here to be able to override the default hidden behavior on the sphinx rendered scikit-learn.org. See: https://github.com/scikit-learn/scikit-learn/issues/21755 */display: inline-block !important;position: relative;}#sk-container-id-1 div.sk-text-repr-fallback {display: none;}</style><div id=\"sk-container-id-1\" class=\"sk-top-container\"><div class=\"sk-text-repr-fallback\"><pre>RandomForestRegressor(bootstrap=False, max_depth=49,\n",
       "                      max_features=0.6642772264732225, max_leaf_nodes=869,\n",
       "                      min_samples_split=3, n_estimators=621, random_state=0)</pre><b>In a Jupyter environment, please rerun this cell to show the HTML representation or trust the notebook. <br />On GitHub, the HTML representation is unable to render, please try loading this page with nbviewer.org.</b></div><div class=\"sk-container\" hidden><div class=\"sk-item\"><div class=\"sk-estimator sk-toggleable\"><input class=\"sk-toggleable__control sk-hidden--visually\" id=\"sk-estimator-id-1\" type=\"checkbox\" checked><label for=\"sk-estimator-id-1\" class=\"sk-toggleable__label sk-toggleable__label-arrow\">RandomForestRegressor</label><div class=\"sk-toggleable__content\"><pre>RandomForestRegressor(bootstrap=False, max_depth=49,\n",
       "                      max_features=0.6642772264732225, max_leaf_nodes=869,\n",
       "                      min_samples_split=3, n_estimators=621, random_state=0)</pre></div></div></div></div></div>"
      ],
      "text/plain": [
       "RandomForestRegressor(bootstrap=False, max_depth=49,\n",
       "                      max_features=0.6642772264732225, max_leaf_nodes=869,\n",
       "                      min_samples_split=3, n_estimators=621, random_state=0)"
      ]
     },
     "execution_count": 5,
     "metadata": {},
     "output_type": "execute_result"
    }
   ],
   "source": [
    "rf"
   ]
  },
  {
   "cell_type": "code",
   "execution_count": 6,
   "metadata": {},
   "outputs": [
    {
     "data": {
      "text/plain": [
       "0.9920257500573733"
      ]
     },
     "execution_count": 6,
     "metadata": {},
     "output_type": "execute_result"
    }
   ],
   "source": [
    "#チューニングをしたrandomforestモデルが持って来れる\n",
    "predict_test = rf.predict(X_test)\n",
    "r2_score(y_true=y_test,y_pred=predict_test)"
   ]
  },
  {
   "cell_type": "code",
   "execution_count": 7,
   "metadata": {},
   "outputs": [
    {
     "data": {
      "text/html": [
       "<div>\n",
       "<style scoped>\n",
       "    .dataframe tbody tr th:only-of-type {\n",
       "        vertical-align: middle;\n",
       "    }\n",
       "\n",
       "    .dataframe tbody tr th {\n",
       "        vertical-align: top;\n",
       "    }\n",
       "\n",
       "    .dataframe thead th {\n",
       "        text-align: right;\n",
       "    }\n",
       "</style>\n",
       "<table border=\"1\" class=\"dataframe\">\n",
       "  <thead>\n",
       "    <tr style=\"text-align: right;\">\n",
       "      <th></th>\n",
       "      <th>id</th>\n",
       "      <th>cost</th>\n",
       "      <th>model_number</th>\n",
       "      <th>model_year</th>\n",
       "      <th>color</th>\n",
       "      <th>mileage</th>\n",
       "      <th>guarantee_period</th>\n",
       "      <th>store_id</th>\n",
       "      <th>brand</th>\n",
       "      <th>name</th>\n",
       "      <th>type</th>\n",
       "      <th>displacement</th>\n",
       "    </tr>\n",
       "  </thead>\n",
       "  <tbody>\n",
       "    <tr>\n",
       "      <th>0</th>\n",
       "      <td>2100005197021</td>\n",
       "      <td>128000</td>\n",
       "      <td>EBJ-SE53J</td>\n",
       "      <td>2011.0</td>\n",
       "      <td>7.0</td>\n",
       "      <td>9937.0</td>\n",
       "      <td>0.25</td>\n",
       "      <td>64</td>\n",
       "      <td>9.0</td>\n",
       "      <td>ｱｸｼｽﾄﾘｰﾄ</td>\n",
       "      <td>2.0</td>\n",
       "      <td>125.0</td>\n",
       "    </tr>\n",
       "    <tr>\n",
       "      <th>1</th>\n",
       "      <td>2100006010725</td>\n",
       "      <td>148000</td>\n",
       "      <td>BA-AF58</td>\n",
       "      <td>2004.0</td>\n",
       "      <td>11.0</td>\n",
       "      <td>9317.0</td>\n",
       "      <td>0.25</td>\n",
       "      <td>75</td>\n",
       "      <td>2.0</td>\n",
       "      <td>ｽﾞｰﾏｰ</td>\n",
       "      <td>2.0</td>\n",
       "      <td>50.0</td>\n",
       "    </tr>\n",
       "    <tr>\n",
       "      <th>2</th>\n",
       "      <td>2100006174472</td>\n",
       "      <td>598000</td>\n",
       "      <td>2BK-MC49</td>\n",
       "      <td>2020.0</td>\n",
       "      <td>9.0</td>\n",
       "      <td>1000.0</td>\n",
       "      <td>5.00</td>\n",
       "      <td>50</td>\n",
       "      <td>2.0</td>\n",
       "      <td>ﾚﾌﾞﾙ250</td>\n",
       "      <td>0.0</td>\n",
       "      <td>250.0</td>\n",
       "    </tr>\n",
       "    <tr>\n",
       "      <th>3</th>\n",
       "      <td>2100005171830</td>\n",
       "      <td>458000</td>\n",
       "      <td>2BJ-JC79</td>\n",
       "      <td>2021.0</td>\n",
       "      <td>7.0</td>\n",
       "      <td>4349.0</td>\n",
       "      <td>1.00</td>\n",
       "      <td>61</td>\n",
       "      <td>2.0</td>\n",
       "      <td>CB125R</td>\n",
       "      <td>4.0</td>\n",
       "      <td>125.0</td>\n",
       "    </tr>\n",
       "    <tr>\n",
       "      <th>4</th>\n",
       "      <td>2100006114140</td>\n",
       "      <td>158000</td>\n",
       "      <td>JBH-AF77</td>\n",
       "      <td>2019.0</td>\n",
       "      <td>4.0</td>\n",
       "      <td>22.0</td>\n",
       "      <td>1.00</td>\n",
       "      <td>21</td>\n",
       "      <td>2.0</td>\n",
       "      <td>ｼﾞｮﾙﾉ</td>\n",
       "      <td>2.0</td>\n",
       "      <td>50.0</td>\n",
       "    </tr>\n",
       "    <tr>\n",
       "      <th>...</th>\n",
       "      <td>...</td>\n",
       "      <td>...</td>\n",
       "      <td>...</td>\n",
       "      <td>...</td>\n",
       "      <td>...</td>\n",
       "      <td>...</td>\n",
       "      <td>...</td>\n",
       "      <td>...</td>\n",
       "      <td>...</td>\n",
       "      <td>...</td>\n",
       "      <td>...</td>\n",
       "      <td>...</td>\n",
       "    </tr>\n",
       "    <tr>\n",
       "      <th>1117</th>\n",
       "      <td>2100006064599</td>\n",
       "      <td>138000</td>\n",
       "      <td>2BH-AF79</td>\n",
       "      <td>2016.0</td>\n",
       "      <td>7.0</td>\n",
       "      <td>4610.0</td>\n",
       "      <td>0.25</td>\n",
       "      <td>21</td>\n",
       "      <td>2.0</td>\n",
       "      <td>ﾀｸﾄﾍﾞｰｼｯｸ</td>\n",
       "      <td>2.0</td>\n",
       "      <td>50.0</td>\n",
       "    </tr>\n",
       "    <tr>\n",
       "      <th>1118</th>\n",
       "      <td>2100004942059</td>\n",
       "      <td>648000</td>\n",
       "      <td>JBK-BJ250A</td>\n",
       "      <td>2017.0</td>\n",
       "      <td>0.0</td>\n",
       "      <td>12514.0</td>\n",
       "      <td>3.00</td>\n",
       "      <td>43</td>\n",
       "      <td>5.0</td>\n",
       "      <td>ｴｽﾄﾚﾔ</td>\n",
       "      <td>4.0</td>\n",
       "      <td>250.0</td>\n",
       "    </tr>\n",
       "    <tr>\n",
       "      <th>1119</th>\n",
       "      <td>2100005245517</td>\n",
       "      <td>2098000</td>\n",
       "      <td>8BL-EJ11A</td>\n",
       "      <td>2022.0</td>\n",
       "      <td>7.0</td>\n",
       "      <td>1446.0</td>\n",
       "      <td>7.00</td>\n",
       "      <td>10</td>\n",
       "      <td>7.0</td>\n",
       "      <td>ﾊﾔﾌﾞｻ</td>\n",
       "      <td>3.0</td>\n",
       "      <td>1300.0</td>\n",
       "    </tr>\n",
       "    <tr>\n",
       "      <th>1120</th>\n",
       "      <td>2100006294828</td>\n",
       "      <td>498000</td>\n",
       "      <td>BC-RH01J</td>\n",
       "      <td>2007.0</td>\n",
       "      <td>11.0</td>\n",
       "      <td>2506.0</td>\n",
       "      <td>0.25</td>\n",
       "      <td>3</td>\n",
       "      <td>9.0</td>\n",
       "      <td>SR400</td>\n",
       "      <td>4.0</td>\n",
       "      <td>400.0</td>\n",
       "    </tr>\n",
       "    <tr>\n",
       "      <th>1121</th>\n",
       "      <td>2100005910521</td>\n",
       "      <td>800000</td>\n",
       "      <td>EBL-XGB</td>\n",
       "      <td>2015.0</td>\n",
       "      <td>11.0</td>\n",
       "      <td>2710.0</td>\n",
       "      <td>1.00</td>\n",
       "      <td>22</td>\n",
       "      <td>3.0</td>\n",
       "      <td>XG750</td>\n",
       "      <td>0.0</td>\n",
       "      <td>750.0</td>\n",
       "    </tr>\n",
       "  </tbody>\n",
       "</table>\n",
       "<p>1118 rows × 12 columns</p>\n",
       "</div>"
      ],
      "text/plain": [
       "                 id     cost model_number  model_year  color  mileage  \\\n",
       "0     2100005197021   128000    EBJ-SE53J      2011.0    7.0   9937.0   \n",
       "1     2100006010725   148000      BA-AF58      2004.0   11.0   9317.0   \n",
       "2     2100006174472   598000     2BK-MC49      2020.0    9.0   1000.0   \n",
       "3     2100005171830   458000     2BJ-JC79      2021.0    7.0   4349.0   \n",
       "4     2100006114140   158000     JBH-AF77      2019.0    4.0     22.0   \n",
       "...             ...      ...          ...         ...    ...      ...   \n",
       "1117  2100006064599   138000     2BH-AF79      2016.0    7.0   4610.0   \n",
       "1118  2100004942059   648000   JBK-BJ250A      2017.0    0.0  12514.0   \n",
       "1119  2100005245517  2098000    8BL-EJ11A      2022.0    7.0   1446.0   \n",
       "1120  2100006294828   498000     BC-RH01J      2007.0   11.0   2506.0   \n",
       "1121  2100005910521   800000      EBL-XGB      2015.0   11.0   2710.0   \n",
       "\n",
       "      guarantee_period  store_id  brand        name  type  displacement  \n",
       "0                 0.25        64    9.0    ｱｸｼｽﾄﾘｰﾄ   2.0         125.0  \n",
       "1                 0.25        75    2.0       ｽﾞｰﾏｰ   2.0          50.0  \n",
       "2                 5.00        50    2.0     ﾚﾌﾞﾙ250   0.0         250.0  \n",
       "3                 1.00        61    2.0      CB125R   4.0         125.0  \n",
       "4                 1.00        21    2.0       ｼﾞｮﾙﾉ   2.0          50.0  \n",
       "...                ...       ...    ...         ...   ...           ...  \n",
       "1117              0.25        21    2.0   ﾀｸﾄﾍﾞｰｼｯｸ   2.0          50.0  \n",
       "1118              3.00        43    5.0       ｴｽﾄﾚﾔ   4.0         250.0  \n",
       "1119              7.00        10    7.0       ﾊﾔﾌﾞｻ   3.0        1300.0  \n",
       "1120              0.25         3    9.0       SR400   4.0         400.0  \n",
       "1121              1.00        22    3.0       XG750   0.0         750.0  \n",
       "\n",
       "[1118 rows x 12 columns]"
      ]
     },
     "execution_count": 7,
     "metadata": {},
     "output_type": "execute_result"
    }
   ],
   "source": [
    "test_data"
   ]
  },
  {
   "cell_type": "code",
   "execution_count": 8,
   "metadata": {},
   "outputs": [
    {
     "data": {
      "text/plain": [
       "dtype('float64')"
      ]
     },
     "execution_count": 8,
     "metadata": {},
     "output_type": "execute_result"
    }
   ],
   "source": [
    "test_data['guarantee_period'].dtype"
   ]
  },
  {
   "cell_type": "code",
   "execution_count": 9,
   "metadata": {},
   "outputs": [
    {
     "data": {
      "text/plain": [
       "array([[2.011e+03, 7.000e+00, 9.937e+03, ..., 9.000e+00, 2.000e+00,\n",
       "        1.250e+02],\n",
       "       [2.004e+03, 1.100e+01, 9.317e+03, ..., 2.000e+00, 2.000e+00,\n",
       "        5.000e+01],\n",
       "       [2.020e+03, 9.000e+00, 1.000e+03, ..., 2.000e+00, 0.000e+00,\n",
       "        2.500e+02],\n",
       "       ...,\n",
       "       [2.022e+03, 7.000e+00, 1.446e+03, ..., 7.000e+00, 3.000e+00,\n",
       "        1.300e+03],\n",
       "       [2.007e+03, 1.100e+01, 2.506e+03, ..., 9.000e+00, 4.000e+00,\n",
       "        4.000e+02],\n",
       "       [2.015e+03, 1.100e+01, 2.710e+03, ..., 3.000e+00, 0.000e+00,\n",
       "        7.500e+02]])"
      ]
     },
     "execution_count": 9,
     "metadata": {},
     "output_type": "execute_result"
    }
   ],
   "source": [
    "X_test"
   ]
  },
  {
   "cell_type": "code",
   "execution_count": 10,
   "metadata": {},
   "outputs": [],
   "source": [
    "data=pd.Series(data=[1,2000,111,2020,'限定',8049,2,1,'HONDA','CBR1000RR','スポーツ/ツアラー','1000'],index=all_data.columns)\n",
    "df_t=pd.DataFrame(columns=all_data.columns)\n",
    "df_t.loc[1]=data"
   ]
  },
  {
   "cell_type": "code",
   "execution_count": 11,
   "metadata": {},
   "outputs": [
    {
     "data": {
      "text/html": [
       "<div>\n",
       "<style scoped>\n",
       "    .dataframe tbody tr th:only-of-type {\n",
       "        vertical-align: middle;\n",
       "    }\n",
       "\n",
       "    .dataframe tbody tr th {\n",
       "        vertical-align: top;\n",
       "    }\n",
       "\n",
       "    .dataframe thead th {\n",
       "        text-align: right;\n",
       "    }\n",
       "</style>\n",
       "<table border=\"1\" class=\"dataframe\">\n",
       "  <thead>\n",
       "    <tr style=\"text-align: right;\">\n",
       "      <th></th>\n",
       "      <th>id</th>\n",
       "      <th>cost</th>\n",
       "      <th>model_number</th>\n",
       "      <th>model_year</th>\n",
       "      <th>color</th>\n",
       "      <th>mileage</th>\n",
       "      <th>guarantee_period</th>\n",
       "      <th>store_id</th>\n",
       "      <th>brand</th>\n",
       "      <th>name</th>\n",
       "      <th>type</th>\n",
       "      <th>displacement</th>\n",
       "    </tr>\n",
       "  </thead>\n",
       "  <tbody>\n",
       "    <tr>\n",
       "      <th>1</th>\n",
       "      <td>1</td>\n",
       "      <td>2000</td>\n",
       "      <td>111</td>\n",
       "      <td>2020</td>\n",
       "      <td>限定</td>\n",
       "      <td>8049</td>\n",
       "      <td>2</td>\n",
       "      <td>1</td>\n",
       "      <td>HONDA</td>\n",
       "      <td>CBR1000RR</td>\n",
       "      <td>スポーツ/ツアラー</td>\n",
       "      <td>1000</td>\n",
       "    </tr>\n",
       "  </tbody>\n",
       "</table>\n",
       "</div>"
      ],
      "text/plain": [
       "  id  cost model_number model_year color mileage guarantee_period store_id  \\\n",
       "1  1  2000          111       2020    限定    8049                2        1   \n",
       "\n",
       "   brand       name       type displacement  \n",
       "1  HONDA  CBR1000RR  スポーツ/ツアラー         1000  "
      ]
     },
     "execution_count": 11,
     "metadata": {},
     "output_type": "execute_result"
    }
   ],
   "source": [
    "df_t"
   ]
  },
  {
   "cell_type": "code",
   "execution_count": 12,
   "metadata": {},
   "outputs": [],
   "source": [
    "df_t[encoding_target]=oe.transform(df_t[encoding_target].values)"
   ]
  },
  {
   "cell_type": "code",
   "execution_count": 13,
   "metadata": {},
   "outputs": [
    {
     "data": {
      "text/html": [
       "<div>\n",
       "<style scoped>\n",
       "    .dataframe tbody tr th:only-of-type {\n",
       "        vertical-align: middle;\n",
       "    }\n",
       "\n",
       "    .dataframe tbody tr th {\n",
       "        vertical-align: top;\n",
       "    }\n",
       "\n",
       "    .dataframe thead th {\n",
       "        text-align: right;\n",
       "    }\n",
       "</style>\n",
       "<table border=\"1\" class=\"dataframe\">\n",
       "  <thead>\n",
       "    <tr style=\"text-align: right;\">\n",
       "      <th></th>\n",
       "      <th>id</th>\n",
       "      <th>cost</th>\n",
       "      <th>model_number</th>\n",
       "      <th>model_year</th>\n",
       "      <th>color</th>\n",
       "      <th>mileage</th>\n",
       "      <th>guarantee_period</th>\n",
       "      <th>store_id</th>\n",
       "      <th>brand</th>\n",
       "      <th>name</th>\n",
       "      <th>type</th>\n",
       "      <th>displacement</th>\n",
       "    </tr>\n",
       "  </thead>\n",
       "  <tbody>\n",
       "    <tr>\n",
       "      <th>1</th>\n",
       "      <td>1</td>\n",
       "      <td>2000</td>\n",
       "      <td>111</td>\n",
       "      <td>2020</td>\n",
       "      <td>8.0</td>\n",
       "      <td>8049</td>\n",
       "      <td>2</td>\n",
       "      <td>1</td>\n",
       "      <td>2.0</td>\n",
       "      <td>CBR1000RR</td>\n",
       "      <td>3.0</td>\n",
       "      <td>1000</td>\n",
       "    </tr>\n",
       "  </tbody>\n",
       "</table>\n",
       "</div>"
      ],
      "text/plain": [
       "  id  cost model_number model_year  color mileage guarantee_period store_id  \\\n",
       "1  1  2000          111       2020    8.0    8049                2        1   \n",
       "\n",
       "   brand       name  type displacement  \n",
       "1    2.0  CBR1000RR   3.0         1000  "
      ]
     },
     "execution_count": 13,
     "metadata": {},
     "output_type": "execute_result"
    }
   ],
   "source": [
    "df_t"
   ]
  },
  {
   "cell_type": "code",
   "execution_count": 14,
   "metadata": {},
   "outputs": [],
   "source": [
    "\n",
    "X_df_t = df_t.iloc[:,2:].drop(columns=['name','model_number','store_id']).values"
   ]
  },
  {
   "cell_type": "code",
   "execution_count": 15,
   "metadata": {},
   "outputs": [
    {
     "data": {
      "text/plain": [
       "array([[2020, 8.0, 8049, 2, 2.0, 3.0, '1000']], dtype=object)"
      ]
     },
     "execution_count": 15,
     "metadata": {},
     "output_type": "execute_result"
    }
   ],
   "source": [
    "X_df_t"
   ]
  },
  {
   "cell_type": "code",
   "execution_count": 16,
   "metadata": {},
   "outputs": [
    {
     "data": {
      "text/plain": [
       "array([2354808.64580937])"
      ]
     },
     "execution_count": 16,
     "metadata": {},
     "output_type": "execute_result"
    }
   ],
   "source": [
    "rf.predict(X_df_t)"
   ]
  },
  {
   "cell_type": "code",
   "execution_count": 17,
   "metadata": {},
   "outputs": [],
   "source": [
    "\n",
    "np_t = np.array(['赤','HONDA','スポーツ/ツアラー'])\n",
    "np_t=np_t.reshape(1,-1)\n",
    "np_t=oe.transform(np_t)"
   ]
  },
  {
   "cell_type": "code",
   "execution_count": 18,
   "metadata": {},
   "outputs": [
    {
     "data": {
      "text/plain": [
       "6.0"
      ]
     },
     "execution_count": 18,
     "metadata": {},
     "output_type": "execute_result"
    }
   ],
   "source": [
    "np_t[0][0]"
   ]
  },
  {
   "cell_type": "code",
   "execution_count": 19,
   "metadata": {},
   "outputs": [
    {
     "data": {
      "text/plain": [
       "[array(['オレンジ', 'ピンク', '白', '紫', '緑', '茶', '赤', '銀', '限定', '青', '黄', '黒'],\n",
       "       dtype=object),\n",
       " array(['BMW', 'Ducati', 'HONDA', 'Harley-Davidson', 'Husqvarna',\n",
       "        'KAWASAKI', 'KTM', 'SUZUKI', 'Triumph', 'YAMAHA'], dtype=object),\n",
       " array(['アメリカン/クルーザー', 'オフロード/モタード', 'スクーター/ビッグスクーター', 'スポーツ/ツアラー',\n",
       "        'ネイキッド'], dtype=object)]"
      ]
     },
     "execution_count": 19,
     "metadata": {},
     "output_type": "execute_result"
    }
   ],
   "source": [
    "oe.categories_"
   ]
  },
  {
   "cell_type": "code",
   "execution_count": 20,
   "metadata": {},
   "outputs": [
    {
     "data": {
      "text/plain": [
       "[(0, 'オレンジ'),\n",
       " (1, 'ピンク'),\n",
       " (2, '白'),\n",
       " (3, '紫'),\n",
       " (4, '緑'),\n",
       " (5, '茶'),\n",
       " (6, '赤'),\n",
       " (7, '銀'),\n",
       " (8, '限定'),\n",
       " (9, '青'),\n",
       " (10, '黄'),\n",
       " (11, '黒')]"
      ]
     },
     "execution_count": 20,
     "metadata": {},
     "output_type": "execute_result"
    }
   ],
   "source": [
    "[(i,oe.categories_[0][i])for i,oe.categories_[0][i] in enumerate(oe.categories_[0])]"
   ]
  },
  {
   "cell_type": "code",
   "execution_count": 33,
   "metadata": {},
   "outputs": [
    {
     "data": {
      "text/plain": [
       "'オフロード/モタード'"
      ]
     },
     "execution_count": 33,
     "metadata": {},
     "output_type": "execute_result"
    }
   ],
   "source": [
    "oe.inverse_transform([[1,1,1]])[0][2]"
   ]
  },
  {
   "cell_type": "code",
   "execution_count": null,
   "metadata": {},
   "outputs": [],
   "source": []
  }
 ],
 "metadata": {
  "kernelspec": {
   "display_name": "python310",
   "language": "python",
   "name": "python3"
  },
  "language_info": {
   "codemirror_mode": {
    "name": "ipython",
    "version": 3
   },
   "file_extension": ".py",
   "mimetype": "text/x-python",
   "name": "python",
   "nbconvert_exporter": "python",
   "pygments_lexer": "ipython3",
   "version": "3.10.13"
  },
  "orig_nbformat": 4
 },
 "nbformat": 4,
 "nbformat_minor": 2
}
